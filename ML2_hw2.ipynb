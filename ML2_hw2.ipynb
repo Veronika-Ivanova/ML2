{
  "nbformat": 4,
  "nbformat_minor": 0,
  "metadata": {
    "colab": {
      "name": "Копия блокнота \"homework-practice-08-random-features.ipynb\"",
      "provenance": [],
      "collapsed_sections": []
    },
    "kernelspec": {
      "display_name": "Python 3",
      "language": "python",
      "name": "python3"
    },
    "language_info": {
      "codemirror_mode": {
        "name": "ipython",
        "version": 3
      },
      "file_extension": ".py",
      "mimetype": "text/x-python",
      "name": "python",
      "nbconvert_exporter": "python",
      "pygments_lexer": "ipython3",
      "version": "3.7.3"
    }
  },
  "cells": [
    {
      "cell_type": "markdown",
      "metadata": {
        "id": "RYp0bXOFK-hP"
      },
      "source": [
        "# Машинное обучение, ФКН ВШЭ\n",
        "\n",
        "## Практическое задание 8. Метод опорных векторов и аппроксимация ядер\n",
        "\n",
        "### Общая информация\n",
        "Дата выдачи: 1.10.2021\n",
        "\n",
        "Мягкий дедлайн: 17.10.2021 23:59 МСК\n",
        "\n",
        "Жесткий дедлайн: 24.10.2021 23:59 МСК (1 неделя -- минус балл)\n",
        "\n",
        "### Оценивание и штрафы\n",
        "Каждая из задач имеет определенную «стоимость» (указана в скобках около задачи). Максимальная оценка за работу (без учёта бонусов) — 10 баллов.\n",
        "\n",
        "Сдавать задание после указанного жёсткого срока сдачи нельзя. При выставлении неполного балла за задание в связи с наличием ошибок на усмотрение проверяющего предусмотрена возможность исправить работу на указанных в ответном письме условиях.\n",
        "\n",
        "Задание выполняется самостоятельно. «Похожие» решения считаются плагиатом и все задействованные студенты (в том числе те, у кого списали) не могут получить за него больше 0 баллов (подробнее о плагиате см. на странице курса). Если вы нашли решение какого-то из заданий (или его часть) в открытом источнике, необходимо указать ссылку на этот источник в отдельном блоке в конце вашей работы (скорее всего вы будете не единственным, кто это нашел, поэтому чтобы исключить подозрение в плагиате, необходима ссылка на источник).\n",
        "\n",
        "Неэффективная реализация кода может негативно отразиться на оценке.\n",
        "\n",
        "### Формат сдачи\n",
        "Загрузите решение в свой репозиторий на github и поделитесь [ссылкой на решение в форме](https://forms.gle/ZzCaqRj6bmfpSpyL7). Не забудьте дать доступ к Вашему репозиторию, что у преподавателей была возмоожность проверить работу."
      ]
    },
    {
      "cell_type": "markdown",
      "metadata": {
        "id": "vY8vT0W_K-hR"
      },
      "source": [
        "### О задании\n",
        "\n",
        "На занятиях мы подробно обсуждали метод опорных векторов (SVM). В базовой версии в нём нет чего-то особенного — мы всего лишь используем специальную функцию потерь, которая не требует устремлять отступы к бесконечности; ей достаточно, чтобы отступы были не меньше +1. Затем мы узнали, что SVM можно переписать в двойственном виде, который, позволяет заменить скалярные произведения объектов на ядра. Это будет соответствовать построению модели в новом пространстве более высокой размерности, координаты которого представляют собой нелинейные модификации исходных признаков.\n",
        "\n",
        "Ядровой SVM, к сожалению, довольно затратен по памяти (нужно хранить матрицу Грама размера $d \\times d$) и по времени (нужно решать задачу условной оптимизации с квадратичной функцией, а это не очень быстро). Мы обсуждали, что есть способы посчитать новые признаки $\\tilde \\varphi(x)$ на основе исходных так, что скалярные произведения этих новых $\\langle \\tilde \\varphi(x), \\tilde \\varphi(z) \\rangle$ приближают ядро $K(x, z)$.\n",
        "\n",
        "Мы будем исследовать аппроксимации методом Random Fourier Features (RFF, также в литературе встречается название Random Kitchen Sinks) для гауссовых ядер. Будем использовать формулы, которые немного отличаются от того, что было на лекциях (мы добавим сдвиги внутрь тригонометрических функций и будем использовать только косинусы, потому что с нужным сдвигом косинус превратится в синус):\n",
        "$$\\tilde \\varphi(x) = (\n",
        "\\cos (w_1^T x + b_1),\n",
        "\\dots,\n",
        "\\cos (w_n^T x + b_n)\n",
        "),$$\n",
        "где $w_j \\sim \\mathcal{N}(0, 1/\\sigma^2)$, $b_j \\sim U[-\\pi, \\pi]$.\n",
        "\n",
        "На новых признаках $\\tilde \\varphi(x)$ мы будем строить любую линейную модель.\n",
        "\n",
        "Можно считать, что это некоторая новая парадигма построения сложных моделей. Можно направленно искать сложные нелинейные закономерности в данных с помощью градиентного бустинга или нейронных сетей, а можно просто нагенерировать большое количество случайных нелинейных признаков и надеяться, что быстрая и простая модель (то есть линейная) сможет показать на них хорошее качество. В этом задании мы изучим, насколько работоспособна такая идея.\n",
        "\n",
        "### Алгоритм\n",
        "\n",
        "Вам потребуется реализовать следующий алгоритм:\n",
        "1. Понизить размерность выборки до new_dim с помощью метода главных компонент.\n",
        "2. Для полученной выборки оценить гиперпараметр $\\sigma^2$ с помощью эвристики (рекомендуем считать медиану не по всем парам объектов, а по случайному подмножеству из где-то миллиона пар объектов): $$\\sigma^2 = \\text{median}_{i, j = 1, \\dots, \\ell, i \\neq j} \\left\\{\\sum_{k = 1}^{d} (x_{ik} - x_{jk})^2 \\right\\}$$\n",
        "3. Сгенерировать n_features наборов весов $w_j$ и сдвигов $b_j$.\n",
        "4. Сформировать n_features новых признаков по формулам, приведённым выше.\n",
        "5. Обучить линейную модель (логистическую регрессию или SVM) на новых признаках.\n",
        "6. Повторить преобразования (PCA, формирование новых признаков) к тестовой выборке и применить модель."
      ]
    },
    {
      "cell_type": "markdown",
      "metadata": {
        "id": "N_sGunb7K-hS"
      },
      "source": [
        "Тестировать алгоритм мы будем на данных Fashion MNIST. Ниже код для их загрузки и подготовки."
      ]
    },
    {
      "cell_type": "code",
      "metadata": {
        "id": "YyG6dBfjK-hS"
      },
      "source": [
        "import keras\n",
        "from keras.datasets import fashion_mnist\n",
        "(x_train_pics, y_train), (x_test_pics, y_test) = fashion_mnist.load_data()\n",
        "x_train = x_train_pics.reshape(x_train_pics.shape[0], -1)\n",
        "x_test = x_test_pics.reshape(x_test_pics.shape[0], -1)"
      ],
      "execution_count": 34,
      "outputs": []
    },
    {
      "cell_type": "markdown",
      "metadata": {
        "id": "rJNN55F7K-hT"
      },
      "source": [
        "__Задание 1. (5 баллов)__\n",
        "\n",
        "Реализуйте алгоритм, описанный выше. Можете воспользоваться шаблоном класса ниже или написать свой интерфейс.\n",
        "\n",
        "Ваша реализация должна поддерживать следующие опции:\n",
        "1. Возможность задавать значения гиперпараметров new_dim (по умолчанию 50) и n_features (по умолчанию 1000).\n",
        "2. Возможность включать или выключать предварительное понижение размерности с помощью метода главных компонент.\n",
        "3. Возможность выбирать тип линейной модели (логистическая регрессия или SVM с линейным ядром).\n",
        "\n",
        "Протестируйте на данных Fashion MNIST, сформированных кодом выше. Если на тесте у вас получилась доля верных ответов не ниже 0.84 с гиперпараметрами по умолчанию, то вы всё сделали правильно."
      ]
    },
    {
      "cell_type": "code",
      "metadata": {
        "id": "U-VQ3cWac53A"
      },
      "source": [
        "from sklearn.decomposition import PCA\n",
        "import numpy as np\n",
        "from scipy.spatial.distance import cdist\n",
        "from sklearn.linear_model import LogisticRegression\n",
        "from sklearn.svm import SVC\n",
        "from sklearn.metrics import accuracy_score\n",
        "from sklearn.preprocessing import StandardScaler\n",
        "from sklearn.metrics import classification_report\n",
        "import time"
      ],
      "execution_count": 1,
      "outputs": []
    },
    {
      "cell_type": "code",
      "metadata": {
        "id": "jP8yepx8K-hT"
      },
      "source": [
        "from sklearn.base import BaseEstimator, TransformerMixin\n",
        "\n",
        "\n",
        "class RFFPipeline(BaseEstimator, TransformerMixin):\n",
        "    def __init__(self, n_features=1000, new_dim=50, use_PCA=True, classifier='logreg'):\n",
        "        \"\"\"        \n",
        "        Implements pipeline, which consists of PCA decomposition,\n",
        "        Random Fourier Features approximation and linear classification model.\n",
        "        \n",
        "        n_features, int: amount of synthetic random features generated with RFF approximation.\n",
        "\n",
        "        new_dim, int: PCA output size.\n",
        "        \n",
        "        use_PCA, bool: whether to include PCA preprocessing.\n",
        "        \n",
        "        classifier, string: either 'svm' or 'logreg', a linear classification model to use on top of pipeline.\n",
        "        \n",
        "        Feel free to edit this template for your preferences.    \n",
        "        \"\"\"\n",
        "        self.n_features = n_features\n",
        "        self.use_PCA = use_PCA\n",
        "        self.new_dim = new_dim\n",
        "        self.classifier = classifier\n",
        "        self.scaler1 = StandardScaler()\n",
        "        self.scaler2 = StandardScaler()\n",
        "        \n",
        "    def fit(self, X, y):\n",
        "        \"\"\"\n",
        "        Fit all parts of algorithm (PCA, RFF, Classification) to training set.\n",
        "        \"\"\"\n",
        "        # Your code here: (￣▽￣)/♫•*¨*•.¸¸♪\n",
        "        X_copy = self.scaler1.fit_transform(X)\n",
        "        if self.use_PCA:\n",
        "          self.pca = PCA(n_components=self.new_dim, random_state = 42)\n",
        "          X_copy = self.pca.fit_transform(X)\n",
        "\n",
        "        self.W, self.b = self._find_W_b(X_copy)\n",
        "        X_copy = self.scaler2.fit_transform(np.cos(X_copy @ self.W + self.b))\n",
        "              \n",
        "        # LinearModel\n",
        "        if self.classifier == 'svm':\n",
        "            self.clf = SVC(kernel='linear', probability=True, random_state=42)\n",
        "        elif self.classifier == 'logreg':\n",
        "            self.clf = LogisticRegression(n_jobs=-1, random_state=42)\n",
        "        else:\n",
        "            raise NotImplementedError('{} is not supported'.format(self.classifier))\n",
        "        self.clf.fit(X_copy, y)\n",
        "        return self\n",
        "\n",
        "    def _find_W_b(self, X): \n",
        "        i = np.random.choice(X.shape[0], 2000)\n",
        "        i = np.unique(i)\n",
        "        j = np.random.choice(list(set([k for k in range(X.shape[0])]) - set(i)), 2000) \n",
        "        j = np.unique(j)\n",
        "        dist = cdist(X[i], X[j]).flatten() \n",
        "        sigma = np.median(dist)\n",
        "        W = np.random.normal(0, 1/sigma, size=(X.shape[1], self.n_features))\n",
        "        b = np.random.uniform(-np.pi, np.pi, size=self.n_features)\n",
        "        return W, b\n",
        "\n",
        "    def predict_proba(self, X):\n",
        "        \"\"\"\n",
        "        Apply pipeline to obtain scores for input data.\n",
        "        \"\"\"\n",
        "        # Your code here: (￣▽￣)/♫•*¨*•.¸¸♪\n",
        "        X_copy = self.scaler1.transform(X)\n",
        "        if self.use_PCA:\n",
        "            X_copy = self.pca.transform(X)\n",
        "        X_copy = self.scaler2.transform(np.cos(X_copy @ self.W + self.b))\n",
        "        preds_proba = self.clf.predict_proba(X_copy)\n",
        "        return preds_proba\n",
        "                \n",
        "    def predict(self, X):\n",
        "        \"\"\"\n",
        "        Apply pipeline to obtain discrete predictions for input data.\n",
        "        \"\"\"\n",
        "        # Your code here: (￣▽￣)/♫•*¨*•.¸¸♪\n",
        "        preds_proba = self.predict_proba(X)\n",
        "        preds = np.argmax(preds_proba, axis=1)\n",
        "        return preds\n",
        "#Частично заимствовано из\n",
        "#https://github.com/SamburskyAlexander/ML-DL/blob/6833eb39b43e5f2c30e83cb931278c03d4c2ff11/ML_fragments.ipynb"
      ],
      "execution_count": 5,
      "outputs": []
    },
    {
      "cell_type": "code",
      "metadata": {
        "colab": {
          "base_uri": "https://localhost:8080/"
        },
        "id": "1CdJ2f8I3Cix",
        "outputId": "72c92d17-452c-4e25-9e45-2dc7e0da3b89"
      },
      "source": [
        "%%time\n",
        "RFFPipe = RFFPipeline()\n",
        "RFFPipe.fit(x_train, y_train)\n",
        "\n",
        "preds_probs = RFFPipe.predict_proba(x_test)\n",
        "preds_rff_logreg = np.argmax(preds_probs, axis=1)\n",
        "print('RFF LogReg accuracy =', round(accuracy_score(y_test, preds_rff_logreg), 4))\n",
        "print('*'*50)\n",
        "print(classification_report(y_test, preds_rff_logreg))"
      ],
      "execution_count": 6,
      "outputs": [
        {
          "output_type": "stream",
          "name": "stdout",
          "text": [
            "RFF LogReg accuracy = 0.8741\n",
            "**************************************************\n",
            "              precision    recall  f1-score   support\n",
            "\n",
            "           0       0.82      0.82      0.82      1000\n",
            "           1       0.99      0.97      0.98      1000\n",
            "           2       0.78      0.78      0.78      1000\n",
            "           3       0.87      0.89      0.88      1000\n",
            "           4       0.79      0.81      0.80      1000\n",
            "           5       0.96      0.95      0.95      1000\n",
            "           6       0.69      0.66      0.67      1000\n",
            "           7       0.93      0.95      0.94      1000\n",
            "           8       0.97      0.96      0.97      1000\n",
            "           9       0.95      0.95      0.95      1000\n",
            "\n",
            "    accuracy                           0.87     10000\n",
            "   macro avg       0.87      0.87      0.87     10000\n",
            "weighted avg       0.87      0.87      0.87     10000\n",
            "\n",
            "CPU times: user 16.7 s, sys: 4.57 s, total: 21.2 s\n",
            "Wall time: 1min 10s\n"
          ]
        }
      ]
    },
    {
      "cell_type": "code",
      "metadata": {
        "id": "07on_t5eAGpc"
      },
      "source": [
        "RFFPipe = RFFPipeline(classifier='svm')\n",
        "RFFPipe.fit(x_train, y_train)\n",
        "\n",
        "preds_probs = RFFPipe.predict_proba(x_test)\n",
        "preds_rff_svm = np.argmax(preds_probs, axis=1)"
      ],
      "execution_count": null,
      "outputs": []
    },
    {
      "cell_type": "code",
      "metadata": {
        "colab": {
          "base_uri": "https://localhost:8080/"
        },
        "id": "vQSupa9NnNBm",
        "outputId": "4d7b6d96-7f68-4848-8603-19ed770e56ed"
      },
      "source": [
        "print('RFF SVM accuracy =', round(accuracy_score(y_test, preds_rff_svm), 4))\n",
        "print('*'*50)\n",
        "print(classification_report(y_test, preds_rff_svm))"
      ],
      "execution_count": 6,
      "outputs": [
        {
          "output_type": "stream",
          "name": "stdout",
          "text": [
            "RFF SVM accuracy = 0.8807\n",
            "**************************************************\n",
            "              precision    recall  f1-score   support\n",
            "\n",
            "           0       0.81      0.85      0.83      1000\n",
            "           1       0.99      0.96      0.98      1000\n",
            "           2       0.78      0.80      0.79      1000\n",
            "           3       0.88      0.89      0.89      1000\n",
            "           4       0.81      0.81      0.81      1000\n",
            "           5       0.96      0.95      0.96      1000\n",
            "           6       0.72      0.67      0.69      1000\n",
            "           7       0.93      0.96      0.94      1000\n",
            "           8       0.97      0.97      0.97      1000\n",
            "           9       0.95      0.95      0.95      1000\n",
            "\n",
            "    accuracy                           0.88     10000\n",
            "   macro avg       0.88      0.88      0.88     10000\n",
            "weighted avg       0.88      0.88      0.88     10000\n",
            "\n"
          ]
        }
      ]
    },
    {
      "cell_type": "markdown",
      "metadata": {
        "id": "bqXv29-h9HRS"
      },
      "source": [
        "SVM дает небольшой прирост в качестве, но работает намного медленнеее, чем LogReg."
      ]
    },
    {
      "cell_type": "markdown",
      "metadata": {
        "id": "HYqQUEi-K-hU"
      },
      "source": [
        "__Задание 2. (3 балла)__\n",
        "\n",
        "Сравните подход со случайными признаками с обучением SVM на исходных признаках. Попробуйте вариант с обычным (линейным) SVM и с ядровым SVM. Ядровой SVM может очень долго обучаться, поэтому можно делать любые разумные вещи для ускорения: брать подмножество объектов из обучающей выборки, например.\n",
        "\n",
        "Сравните подход со случайными признаками с вариантом, в котором вы понижаете размерность с помощью PCA и обучаете градиентный бустинг. Используйте одну из реализаций CatBoost/LightGBM/XGBoost, не забудьте подобрать число деревьев и длину шага.\n",
        "\n",
        "Сделайте выводы — насколько идея со случайными признаками работает? Сравните как с точки зрения качества, так и с точки зрения скорости обучения и применения."
      ]
    },
    {
      "cell_type": "code",
      "metadata": {
        "id": "qN8LUlJgK-hV",
        "colab": {
          "base_uri": "https://localhost:8080/"
        },
        "outputId": "07a4b832-448f-4081-b35a-545739c03c71"
      },
      "source": [
        "# Your code here: (￣▽￣)/♫•*¨*•.¸¸♪\n",
        "#Линейный SVM на подвыборке из исходных признаков\n",
        "%%time\n",
        "random_obj = list(set(np.random.choice(x_train.shape[0], 10000)))\n",
        "x_train_random = x_train[random_obj]\n",
        "y_train_random = y_train[random_obj]\n",
        "LinearSVM = SVC(kernel='linear', probability=True, random_state=42)\n",
        "LinearSVM.fit(x_train_random, y_train_random)\n",
        "\n",
        "preds_probs = LinearSVM.predict_proba(x_test)\n",
        "preds_linear_SVM = np.argmax(preds_probs, axis=1)\n",
        "print('Linear SVM accuracy =', round(accuracy_score(y_test, preds_linear_SVM), 4))\n",
        "print('*'*50)\n",
        "print(classification_report(y_test, preds_linear_SVM))"
      ],
      "execution_count": 42,
      "outputs": [
        {
          "output_type": "stream",
          "name": "stdout",
          "text": [
            "Linear SVM accuracy = 0.8029\n",
            "**************************************************\n",
            "              precision    recall  f1-score   support\n",
            "\n",
            "           0       0.75      0.76      0.76      1000\n",
            "           1       0.97      0.95      0.96      1000\n",
            "           2       0.65      0.64      0.64      1000\n",
            "           3       0.81      0.84      0.83      1000\n",
            "           4       0.67      0.67      0.67      1000\n",
            "           5       0.91      0.89      0.90      1000\n",
            "           6       0.53      0.51      0.52      1000\n",
            "           7       0.87      0.90      0.89      1000\n",
            "           8       0.93      0.94      0.93      1000\n",
            "           9       0.92      0.93      0.93      1000\n",
            "\n",
            "    accuracy                           0.80     10000\n",
            "   macro avg       0.80      0.80      0.80     10000\n",
            "weighted avg       0.80      0.80      0.80     10000\n",
            "\n",
            "CPU times: user 3min 5s, sys: 136 ms, total: 3min 5s\n",
            "Wall time: 3min 4s\n"
          ]
        }
      ]
    },
    {
      "cell_type": "code",
      "metadata": {
        "colab": {
          "base_uri": "https://localhost:8080/"
        },
        "id": "0xuAKpK77XyE",
        "outputId": "eb41dc0b-b581-4fc1-d642-db32ece6f8ae"
      },
      "source": [
        "#Ядровой SVM на подвыборке из исходных признаков\n",
        "%%time\n",
        "KernelSVM = SVC(kernel='poly', probability=True, random_state=42, degree=10)\n",
        "KernelSVM.fit(x_train_random, y_train_random)\n",
        "\n",
        "preds_pobs = KernelSVM.predict_proba(x_test)\n",
        "preds_kernel_svm = np.argmax(preds_probs, axis=1)\n",
        "print('Kernel SVM accuracy =', round(accuracy_score(y_test, preds_kernel_svm), 4))\n",
        "print('*'*50)\n",
        "print(classification_report(y_test, preds_kernel_svm))"
      ],
      "execution_count": 10,
      "outputs": [
        {
          "output_type": "stream",
          "name": "stdout",
          "text": [
            "Kernel SVM accuracy = 0.8741\n",
            "**************************************************\n",
            "              precision    recall  f1-score   support\n",
            "\n",
            "           0       0.82      0.82      0.82      1000\n",
            "           1       0.99      0.97      0.98      1000\n",
            "           2       0.78      0.78      0.78      1000\n",
            "           3       0.87      0.89      0.88      1000\n",
            "           4       0.79      0.81      0.80      1000\n",
            "           5       0.96      0.95      0.95      1000\n",
            "           6       0.69      0.66      0.67      1000\n",
            "           7       0.93      0.95      0.94      1000\n",
            "           8       0.97      0.96      0.97      1000\n",
            "           9       0.95      0.95      0.95      1000\n",
            "\n",
            "    accuracy                           0.87     10000\n",
            "   macro avg       0.87      0.87      0.87     10000\n",
            "weighted avg       0.87      0.87      0.87     10000\n",
            "\n",
            "CPU times: user 5min 18s, sys: 325 ms, total: 5min 18s\n",
            "Wall time: 5min 17s\n"
          ]
        }
      ]
    },
    {
      "cell_type": "code",
      "metadata": {
        "colab": {
          "base_uri": "https://localhost:8080/"
        },
        "id": "E53M4WKf6Ljn",
        "outputId": "6275bf71-eda7-4d44-dfaf-1b51681ebff9"
      },
      "source": [
        "#RFF SVM на подвыборке из исходных признаков\n",
        "%%time\n",
        "RFFPipe = RFFPipeline(classifier='svm')\n",
        "RFFPipe.fit(x_train_random, y_train_random)\n",
        "\n",
        "preds_probs = RFFPipe.predict_proba(x_test)\n",
        "preds_rff_svm = np.argmax(preds_probs, axis=1)\n",
        "print('RFF SVM accuracy =', round(accuracy_score(y_test, preds_rff_svm), 4))\n",
        "print('*'*50)\n",
        "print(classification_report(y_test, preds_rff_svm))"
      ],
      "execution_count": 11,
      "outputs": [
        {
          "output_type": "stream",
          "name": "stdout",
          "text": [
            "RFF SVM accuracy = 0.8457\n",
            "**************************************************\n",
            "              precision    recall  f1-score   support\n",
            "\n",
            "           0       0.73      0.84      0.78      1000\n",
            "           1       0.98      0.96      0.97      1000\n",
            "           2       0.75      0.75      0.75      1000\n",
            "           3       0.86      0.86      0.86      1000\n",
            "           4       0.74      0.75      0.74      1000\n",
            "           5       0.96      0.93      0.94      1000\n",
            "           6       0.66      0.56      0.61      1000\n",
            "           7       0.90      0.93      0.91      1000\n",
            "           8       0.96      0.96      0.96      1000\n",
            "           9       0.93      0.93      0.93      1000\n",
            "\n",
            "    accuracy                           0.85     10000\n",
            "   macro avg       0.85      0.85      0.84     10000\n",
            "weighted avg       0.85      0.85      0.84     10000\n",
            "\n",
            "CPU times: user 3min 5s, sys: 1.69 s, total: 3min 6s\n",
            "Wall time: 3min 4s\n"
          ]
        }
      ]
    },
    {
      "cell_type": "markdown",
      "metadata": {
        "id": "wQ-51Lbt9Xuq"
      },
      "source": [
        "На подвыборке из 10000 ядровой SVM показал лучшее качество, чем SVM на случайных признаках при сравнимой скорости обучения. При других запусках лучшее качество чаще всего показывал RFF SVM."
      ]
    },
    {
      "cell_type": "code",
      "metadata": {
        "id": "7KxpGAAFEuAK"
      },
      "source": [
        "from lightgbm import LGBMClassifier"
      ],
      "execution_count": 67,
      "outputs": []
    },
    {
      "cell_type": "code",
      "metadata": {
        "colab": {
          "base_uri": "https://localhost:8080/"
        },
        "id": "IVeOIwpoD8lv",
        "outputId": "786e2593-51b2-4482-cec8-31374f86a181"
      },
      "source": [
        "%%time\n",
        "model = LGBMClassifier(max_depth=7, learning_rate=0.2)\n",
        "pca = PCA(n_components=50, random_state=42)\n",
        "X_copy = pca.fit_transform(x_train)\n",
        "model.fit(X_copy, y_train)\n",
        "\n",
        "X_test_copy = pca.transform(x_test)\n",
        "preds_ = model.predict_proba(X_test_copy)\n",
        "preds_lgbm = np.argmax(preds_, axis=1)\n",
        "print('LGBM accuracy =', round(accuracy_score(y_test, preds_lgbm), 4))\n",
        "print('*'*50)\n",
        "print(classification_report(y_test, preds_lgbm))"
      ],
      "execution_count": 16,
      "outputs": [
        {
          "output_type": "stream",
          "name": "stdout",
          "text": [
            "LGBM accuracy = 0.8683\n",
            "**************************************************\n",
            "              precision    recall  f1-score   support\n",
            "\n",
            "           0       0.81      0.84      0.83      1000\n",
            "           1       0.99      0.96      0.97      1000\n",
            "           2       0.76      0.78      0.77      1000\n",
            "           3       0.88      0.89      0.89      1000\n",
            "           4       0.78      0.80      0.79      1000\n",
            "           5       0.95      0.94      0.95      1000\n",
            "           6       0.66      0.61      0.64      1000\n",
            "           7       0.92      0.94      0.93      1000\n",
            "           8       0.96      0.96      0.96      1000\n",
            "           9       0.94      0.95      0.95      1000\n",
            "\n",
            "    accuracy                           0.87     10000\n",
            "   macro avg       0.87      0.87      0.87     10000\n",
            "weighted avg       0.87      0.87      0.87     10000\n",
            "\n",
            "CPU times: user 58.4 s, sys: 2.71 s, total: 1min 1s\n",
            "Wall time: 31.3 s\n"
          ]
        }
      ]
    },
    {
      "cell_type": "markdown",
      "metadata": {
        "id": "mg9zCzLA9-0y"
      },
      "source": [
        "Качество, полученное для градиентного бустинга при подобранных гиперпараметрах всего на 0.01 хуже, чем качество, полученное для логистической регрессии и SVM со случайными признаками. Но SVM на случайных признаках обучался 1,5 часа. "
      ]
    },
    {
      "cell_type": "markdown",
      "metadata": {
        "id": "KnegLSwXBKaS"
      },
      "source": [
        "Скорость обучения градиентного бустинга в 2 раза меньше, чем скорость обучения логистической регрессии, но при этом обе модели обучаются быстро. Таким образом, модель градиентного бустинга на исходных признаках с применением PCA может быть альтернативой логистической регрессии на случайных признаках."
      ]
    },
    {
      "cell_type": "markdown",
      "metadata": {
        "id": "e6umjhWuK-hV"
      },
      "source": [
        "__Задание 3. (2 балла)__\n",
        "\n",
        "Проведите эксперименты:\n",
        "1. Помогает ли предварительное понижение размерности с помощью PCA? \n",
        "2. Как зависит итоговое качество от n_features? Выходит ли оно на плато при росте n_features?\n",
        "3. Важно ли, какую модель обучать — логистическую регрессию или SVM?"
      ]
    },
    {
      "cell_type": "code",
      "metadata": {
        "id": "c2QIHIMbK-hW",
        "colab": {
          "base_uri": "https://localhost:8080/"
        },
        "outputId": "c95efd31-7d9f-4014-fd0b-b63669492282"
      },
      "source": [
        "# Your code here: (￣▽￣)/♫•*¨*•.¸¸♪\n",
        "RFFPipe = RFFPipeline(use_PCA=False)\n",
        "RFFPipe.fit(x_train, y_train)\n",
        "\n",
        "preds_probs = RFFPipe.predict_proba(x_test)\n",
        "preds_rff_no_PCA = np.argmax(preds_probs, axis=1)\n",
        "print('RFF LogReg accuracy =', round(accuracy_score(y_test, preds_rff_no_PCA), 4))\n",
        "print('*'*50)\n",
        "print(classification_report(y_test, preds_rff_no_PCA))"
      ],
      "execution_count": 12,
      "outputs": [
        {
          "output_type": "stream",
          "name": "stdout",
          "text": [
            "RFF LogReg accuracy = 0.8592\n",
            "**************************************************\n",
            "              precision    recall  f1-score   support\n",
            "\n",
            "           0       0.82      0.80      0.81      1000\n",
            "           1       0.98      0.96      0.97      1000\n",
            "           2       0.76      0.76      0.76      1000\n",
            "           3       0.84      0.88      0.86      1000\n",
            "           4       0.77      0.79      0.78      1000\n",
            "           5       0.94      0.94      0.94      1000\n",
            "           6       0.66      0.64      0.65      1000\n",
            "           7       0.93      0.95      0.94      1000\n",
            "           8       0.94      0.94      0.94      1000\n",
            "           9       0.94      0.94      0.94      1000\n",
            "\n",
            "    accuracy                           0.86     10000\n",
            "   macro avg       0.86      0.86      0.86     10000\n",
            "weighted avg       0.86      0.86      0.86     10000\n",
            "\n"
          ]
        }
      ]
    },
    {
      "cell_type": "code",
      "metadata": {
        "colab": {
          "base_uri": "https://localhost:8080/"
        },
        "id": "j7BwwOnSb-m9",
        "outputId": "75fb9e31-f054-4873-cea7-5101b167cacc"
      },
      "source": [
        "RFFPipe = RFFPipeline(use_PCA=False, classifier='svm')\n",
        "RFFPipe.fit(x_train_random, y_train_random)\n",
        "\n",
        "preds_probs = RFFPipe.predict_proba(x_test)\n",
        "preds_rff_svm = np.argmax(preds_probs, axis=1)\n",
        "print('RFF SVM accuracy =', round(accuracy_score(y_test, preds_rff_svm), 4))\n",
        "print('*'*50)\n",
        "print(classification_report(y_test, preds_rff_svm))"
      ],
      "execution_count": 13,
      "outputs": [
        {
          "output_type": "stream",
          "name": "stdout",
          "text": [
            "RFF SVM accuracy = 0.8326\n",
            "**************************************************\n",
            "              precision    recall  f1-score   support\n",
            "\n",
            "           0       0.74      0.81      0.78      1000\n",
            "           1       0.98      0.96      0.97      1000\n",
            "           2       0.75      0.71      0.73      1000\n",
            "           3       0.84      0.86      0.85      1000\n",
            "           4       0.72      0.75      0.73      1000\n",
            "           5       0.90      0.90      0.90      1000\n",
            "           6       0.62      0.55      0.58      1000\n",
            "           7       0.90      0.91      0.90      1000\n",
            "           8       0.93      0.95      0.94      1000\n",
            "           9       0.92      0.93      0.92      1000\n",
            "\n",
            "    accuracy                           0.83     10000\n",
            "   macro avg       0.83      0.83      0.83     10000\n",
            "weighted avg       0.83      0.83      0.83     10000\n",
            "\n"
          ]
        }
      ]
    },
    {
      "cell_type": "markdown",
      "metadata": {
        "id": "qegzlObPcFms"
      },
      "source": [
        "1. Если предварительно не понижать размерность при помощи PCA, то качество на несколько сотых меньше, чем при понижении размерности. То есть применение PCA помогает улучшать качество."
      ]
    },
    {
      "cell_type": "code",
      "metadata": {
        "id": "NfbsvCF-b5hO"
      },
      "source": [
        "n_features = np.arange(100, 1600, 100)\n",
        "preds_feat = []\n",
        "for n in n_features:\n",
        "  RFFPipe = RFFPipeline(n_features=n)\n",
        "  RFFPipe.fit(x_train, y_train)\n",
        "\n",
        "  preds_probs = RFFPipe.predict_proba(x_test)\n",
        "  preds_feat.append(accuracy_score(y_test, np.argmax(preds_probs, axis=1)))"
      ],
      "execution_count": 17,
      "outputs": []
    },
    {
      "cell_type": "code",
      "metadata": {
        "id": "uA_0KPOz3QLG"
      },
      "source": [
        "import matplotlib.pyplot as plt"
      ],
      "execution_count": 15,
      "outputs": []
    },
    {
      "cell_type": "code",
      "metadata": {
        "colab": {
          "base_uri": "https://localhost:8080/",
          "height": 295
        },
        "id": "kn8IjKuh28Tb",
        "outputId": "ac5aa8e8-cd0b-4053-88d6-a61db47220df"
      },
      "source": [
        "plt.plot(n_features, preds_feat)\n",
        "plt.title('Качество LogReg при разном количестве n features')\n",
        "plt.xlabel('n features')\n",
        "plt.ylabel('accuracy')\n",
        "plt.grid()\n",
        "plt.show()"
      ],
      "execution_count": 18,
      "outputs": [
        {
          "output_type": "display_data",
          "data": {
            "image/png": "[encoded data removed]",
            "text/plain": [
              "<Figure size 432x288 with 1 Axes>"
            ]
          },
          "metadata": {
            "needs_background": "light"
          }
        }
      ]
    },
    {
      "cell_type": "markdown",
      "metadata": {
        "id": "gyizFc7odPUE"
      },
      "source": [
        "2. С увеличением n features качество улучшается и выходит на плато при n features >= 1000. Таким образом 1000 признаков является оптимальным значением."
      ]
    },
    {
      "cell_type": "markdown",
      "metadata": {
        "id": "RjGt7xeB6N91"
      },
      "source": [
        "3. В задании 1 были обучены две модели: логистическая регрессия и SVM. Качество SVM оказалось незначительно выше, чем у логистической регрессии. При этом при других запусках качество логистической регрессии может стать выше за счет других параметров w и b. Обучение SVM занимает 1,5 часа, поэтому логистическая регрессия является оптимальной моделью."
      ]
    },
    {
      "cell_type": "markdown",
      "metadata": {
        "id": "CJqXVuasK-hW"
      },
      "source": [
        "### Бонус"
      ]
    },
    {
      "cell_type": "markdown",
      "metadata": {
        "id": "QVDWHCdrK-hX"
      },
      "source": [
        "__Задание 4. (Максимум 2 балла)__\n",
        "\n",
        "Как вы, должно быть, помните с курса МО-1, многие алгоритмы машинного обучения работают лучше, если признаки данных некоррелированы. Оказывается, что для RFF существует модификация, позволяющая получать ортогональные случайные признаки (Orthogonal Random Features, ORF). Об этом методе можно прочитать в [статье](https://proceedings.neurips.cc/paper/2016/file/53adaf494dc89ef7196d73636eb2451b-Paper.pdf). Реализуйте класс для вычисления ORF по аналогии с основным заданием. Обратите внимание, что ваш класс должен уметь работать со случаем n_features > new_dim (в статье есть замечание на этот счет). Проведите эксперименты, сравнивающие RFF и ORF, сделайте выводы."
      ]
    },
    {
      "cell_type": "markdown",
      "metadata": {
        "id": "4pc7-1jmK-hY"
      },
      "source": [
        "__Задание 5. (Максимум 2 балла)__\n",
        "\n",
        "Поэкспериментируйте с функциями для вычисления новых случайных признаков. Не обязательно использовать косинус от скалярного произведения — можно брать знак от него, хэш и т.д. Придумайте побольше вариантов для генерации признаков и проверьте, не получается ли с их помощью добиваться более высокого качества. Также можете попробовать другой классификатор поверх случайных признаков, сравните результаты."
      ]
    },
    {
      "cell_type": "code",
      "metadata": {
        "id": "dWj-O2vjK-hY"
      },
      "source": [
        "# Your code here: (￣▽￣)/♫•*¨*•.¸¸♪\n"
      ],
      "execution_count": null,
      "outputs": []
    },
    {
      "cell_type": "code",
      "metadata": {
        "id": "FP3-sMtMmgw5"
      },
      "source": [
        "class RFFPipeline(BaseEstimator, TransformerMixin):\n",
        "    def __init__(self, n_features=1000, new_dim=50, use_PCA=True, classifier='logreg'):\n",
        "        \"\"\"        \n",
        "        Implements pipeline, which consists of PCA decomposition,\n",
        "        Random Fourier Features approximation and linear classification model.\n",
        "        \n",
        "        n_features, int: amount of synthetic random features generated with RFF approximation.\n",
        "\n",
        "        new_dim, int: PCA output size.\n",
        "        \n",
        "        use_PCA, bool: whether to include PCA preprocessing.\n",
        "        \n",
        "        classifier, string: either 'svm' or 'logreg', a linear classification model to use on top of pipeline.\n",
        "        \n",
        "        Feel free to edit this template for your preferences.    \n",
        "        \"\"\"\n",
        "        self.n_features = n_features\n",
        "        self.use_PCA = use_PCA\n",
        "        self.new_dim = new_dim\n",
        "        self.classifier = classifier\n",
        "        self.scaler1 = StandardScaler()\n",
        "        self.scaler2 = StandardScaler()\n",
        "        \n",
        "    def fit(self, X, y):\n",
        "        \"\"\"\n",
        "        Fit all parts of algorithm (PCA, RFF, Classification) to training set.\n",
        "        \"\"\"\n",
        "        # Your code here: (￣▽￣)/♫•*¨*•.¸¸♪\n",
        "        X_copy = self.scaler1.fit_transform(X)\n",
        "        if self.use_PCA:\n",
        "          self.pca = PCA(n_components=self.new_dim, random_state = 42)\n",
        "          X_copy = self.pca.fit_transform(X)\n",
        "\n",
        "        self.W, self.b = self._find_W_b(X_copy)\n",
        "        X_copy = self.scaler2.fit_transform(np.cos(X_copy @ self.W + self.b)**3)\n",
        "              \n",
        "        # LinearModel\n",
        "        if self.classifier == 'svm':\n",
        "            self.clf = SVC(kernel='linear', probability=True, random_state=42)\n",
        "        elif self.classifier == 'logreg':\n",
        "            self.clf = LogisticRegression(n_jobs=-1, random_state=42)\n",
        "        else:\n",
        "            raise NotImplementedError('{} is not supported'.format(self.classifier))\n",
        "        self.clf.fit(X_copy, y)\n",
        "        return self\n",
        "\n",
        "    def _find_W_b(self, X): \n",
        "        i = np.random.choice(X.shape[0], 2000)\n",
        "        i = np.unique(i)\n",
        "        j = np.random.choice(list(set([k for k in range(X.shape[0])]) - set(i)), 2000) \n",
        "        j = np.unique(j)\n",
        "        dist = cdist(X[i], X[j]).flatten() \n",
        "        sigma = np.median(dist)\n",
        "        W = np.random.normal(0, 1/sigma, size=(X.shape[1], self.n_features))\n",
        "        b = np.random.uniform(-np.pi, np.pi, size=self.n_features)\n",
        "        return W, b\n",
        "\n",
        "    def predict_proba(self, X):\n",
        "        \"\"\"\n",
        "        Apply pipeline to obtain scores for input data.\n",
        "        \"\"\"\n",
        "        # Your code here: (￣▽￣)/♫•*¨*•.¸¸♪\n",
        "        X_copy = self.scaler1.transform(X)\n",
        "        if self.use_PCA:\n",
        "            X_copy = self.pca.transform(X)\n",
        "        X_copy = self.scaler2.transform(np.cos(X_copy @ self.W + self.b))\n",
        "        preds_proba = self.clf.predict_proba(X_copy)\n",
        "        return preds_proba\n",
        "                \n",
        "    def predict(self, X):\n",
        "        \"\"\"\n",
        "        Apply pipeline to obtain discrete predictions for input data.\n",
        "        \"\"\"\n",
        "        # Your code here: (￣▽￣)/♫•*¨*•.¸¸♪\n",
        "        preds_proba = self.predict_proba(X)\n",
        "        preds = np.argmax(preds_proba, axis=1)\n",
        "        return preds"
      ],
      "execution_count": 51,
      "outputs": []
    },
    {
      "cell_type": "code",
      "metadata": {
        "colab": {
          "base_uri": "https://localhost:8080/"
        },
        "id": "yO8pT35ymgxH",
        "outputId": "feb7edbb-9089-4953-8bdb-2e862ff6f07a"
      },
      "source": [
        "#cos^3\n",
        "RFFPipe = RFFPipeline()\n",
        "RFFPipe.fit(x_train, y_train)\n",
        "\n",
        "preds_probs = RFFPipe.predict_proba(x_test)\n",
        "preds_rff_logreg = np.argmax(preds_probs, axis=1)\n",
        "print('RFF LogReg accuracy =', round(accuracy_score(y_test, preds_rff_logreg), 4))\n",
        "print('*'*50)\n",
        "print(classification_report(y_test, preds_rff_logreg))"
      ],
      "execution_count": 52,
      "outputs": [
        {
          "output_type": "stream",
          "name": "stdout",
          "text": [
            "RFF LogReg accuracy = 0.7073\n",
            "**************************************************\n",
            "              precision    recall  f1-score   support\n",
            "\n",
            "           0       0.91      0.23      0.37      1000\n",
            "           1       1.00      0.89      0.94      1000\n",
            "           2       0.70      0.61      0.65      1000\n",
            "           3       0.74      0.81      0.78      1000\n",
            "           4       0.57      0.81      0.67      1000\n",
            "           5       0.79      0.92      0.85      1000\n",
            "           6       0.31      0.34      0.32      1000\n",
            "           7       0.73      0.80      0.76      1000\n",
            "           8       0.69      0.95      0.80      1000\n",
            "           9       0.97      0.72      0.82      1000\n",
            "\n",
            "    accuracy                           0.71     10000\n",
            "   macro avg       0.74      0.71      0.70     10000\n",
            "weighted avg       0.74      0.71      0.70     10000\n",
            "\n"
          ]
        }
      ]
    },
    {
      "cell_type": "code",
      "metadata": {
        "id": "lEbyrjdem6uu"
      },
      "source": [
        "class RFFPipeline(BaseEstimator, TransformerMixin):\n",
        "    def __init__(self, n_features=1000, new_dim=50, use_PCA=True, classifier='logreg'):\n",
        "        \"\"\"        \n",
        "        Implements pipeline, which consists of PCA decomposition,\n",
        "        Random Fourier Features approximation and linear classification model.\n",
        "        \n",
        "        n_features, int: amount of synthetic random features generated with RFF approximation.\n",
        "\n",
        "        new_dim, int: PCA output size.\n",
        "        \n",
        "        use_PCA, bool: whether to include PCA preprocessing.\n",
        "        \n",
        "        classifier, string: either 'svm' or 'logreg', a linear classification model to use on top of pipeline.\n",
        "        \n",
        "        Feel free to edit this template for your preferences.    \n",
        "        \"\"\"\n",
        "        self.n_features = n_features\n",
        "        self.use_PCA = use_PCA\n",
        "        self.new_dim = new_dim\n",
        "        self.classifier = classifier\n",
        "        self.scaler1 = StandardScaler()\n",
        "        self.scaler2 = StandardScaler()\n",
        "        \n",
        "    def fit(self, X, y):\n",
        "        \"\"\"\n",
        "        Fit all parts of algorithm (PCA, RFF, Classification) to training set.\n",
        "        \"\"\"\n",
        "        # Your code here: (￣▽￣)/♫•*¨*•.¸¸♪\n",
        "        X_copy = self.scaler1.fit_transform(X)\n",
        "        if self.use_PCA:\n",
        "          self.pca = PCA(n_components=self.new_dim, random_state = 42)\n",
        "          X_copy = self.pca.fit_transform(X)\n",
        "\n",
        "        self.W, self.b = self._find_W_b(X_copy)\n",
        "        X_copy = self.scaler2.fit_transform(np.sign(X_copy @ self.W + self.b))\n",
        "              \n",
        "        # LinearModel\n",
        "        if self.classifier == 'svm':\n",
        "            self.clf = SVC(kernel='linear', probability=True, random_state=42)\n",
        "        elif self.classifier == 'logreg':\n",
        "            self.clf = LogisticRegression(n_jobs=-1, random_state=42)\n",
        "        else:\n",
        "            raise NotImplementedError('{} is not supported'.format(self.classifier))\n",
        "        self.clf.fit(X_copy, y)\n",
        "        return self\n",
        "\n",
        "    def _find_W_b(self, X): \n",
        "        i = np.random.choice(X.shape[0], 2000)\n",
        "        i = np.unique(i)\n",
        "        j = np.random.choice(list(set([k for k in range(X.shape[0])]) - set(i)), 2000) \n",
        "        j = np.unique(j)\n",
        "        dist = cdist(X[i], X[j]).flatten() \n",
        "        sigma = np.median(dist)\n",
        "        W = np.random.normal(0, 1/sigma, size=(X.shape[1], self.n_features))\n",
        "        b = np.random.uniform(-np.pi, np.pi, size=self.n_features)\n",
        "        return W, b\n",
        "\n",
        "    def predict_proba(self, X):\n",
        "        \"\"\"\n",
        "        Apply pipeline to obtain scores for input data.\n",
        "        \"\"\"\n",
        "        # Your code here: (￣▽￣)/♫•*¨*•.¸¸♪\n",
        "        X_copy = self.scaler1.transform(X)\n",
        "        if self.use_PCA:\n",
        "            X_copy = self.pca.transform(X)\n",
        "        X_copy = self.scaler2.transform(np.cos(X_copy @ self.W + self.b))\n",
        "        preds_proba = self.clf.predict_proba(X_copy)\n",
        "        return preds_proba\n",
        "                \n",
        "    def predict(self, X):\n",
        "        \"\"\"\n",
        "        Apply pipeline to obtain discrete predictions for input data.\n",
        "        \"\"\"\n",
        "        # Your code here: (￣▽￣)/♫•*¨*•.¸¸♪\n",
        "        preds_proba = self.predict_proba(X)\n",
        "        preds = np.argmax(preds_proba, axis=1)\n",
        "        return preds"
      ],
      "execution_count": 53,
      "outputs": []
    },
    {
      "cell_type": "code",
      "metadata": {
        "colab": {
          "base_uri": "https://localhost:8080/"
        },
        "id": "sSRLZF8XoazB",
        "outputId": "6c787cb4-28dd-4f0a-9a9e-c455a1471c07"
      },
      "source": [
        "#sign вместо cos\n",
        "RFFPipe = RFFPipeline()\n",
        "RFFPipe.fit(x_train, y_train)\n",
        "\n",
        "preds_probs = RFFPipe.predict_proba(x_test)\n",
        "preds_rff_logreg = np.argmax(preds_probs, axis=1)\n",
        "print('RFF LogReg accuracy =', round(accuracy_score(y_test, preds_rff_logreg), 4))\n",
        "print('*'*50)\n",
        "print(classification_report(y_test, preds_rff_logreg))"
      ],
      "execution_count": 46,
      "outputs": [
        {
          "output_type": "stream",
          "name": "stdout",
          "text": [
            "RFF LogReg accuracy = 0.0603\n",
            "**************************************************\n",
            "              precision    recall  f1-score   support\n",
            "\n",
            "           0       0.02      0.00      0.00      1000\n",
            "           1       0.00      0.00      0.00      1000\n",
            "           2       0.05      0.18      0.07      1000\n",
            "           3       0.00      0.00      0.00      1000\n",
            "           4       0.00      0.00      0.00      1000\n",
            "           5       0.07      0.42      0.12      1000\n",
            "           6       0.00      0.00      0.00      1000\n",
            "           7       0.00      0.00      0.00      1000\n",
            "           8       0.00      0.00      0.00      1000\n",
            "           9       0.00      0.00      0.00      1000\n",
            "\n",
            "    accuracy                           0.06     10000\n",
            "   macro avg       0.01      0.06      0.02     10000\n",
            "weighted avg       0.01      0.06      0.02     10000\n",
            "\n"
          ]
        },
        {
          "output_type": "stream",
          "name": "stderr",
          "text": [
            "/usr/local/lib/python3.7/dist-packages/sklearn/metrics/_classification.py:1272: UndefinedMetricWarning: Precision and F-score are ill-defined and being set to 0.0 in labels with no predicted samples. Use `zero_division` parameter to control this behavior.\n",
            "  _warn_prf(average, modifier, msg_start, len(result))\n"
          ]
        }
      ]
    },
    {
      "cell_type": "code",
      "metadata": {
        "id": "lSZv6Nijp_B0"
      },
      "source": [
        "class RFFPipeline(BaseEstimator, TransformerMixin):\n",
        "    def __init__(self, n_features=1000, new_dim=50, use_PCA=True, classifier='logreg'):\n",
        "        \"\"\"        \n",
        "        Implements pipeline, which consists of PCA decomposition,\n",
        "        Random Fourier Features approximation and linear classification model.\n",
        "        \n",
        "        n_features, int: amount of synthetic random features generated with RFF approximation.\n",
        "\n",
        "        new_dim, int: PCA output size.\n",
        "        \n",
        "        use_PCA, bool: whether to include PCA preprocessing.\n",
        "        \n",
        "        classifier, string: either 'svm' or 'logreg', a linear classification model to use on top of pipeline.\n",
        "        \n",
        "        Feel free to edit this template for your preferences.    \n",
        "        \"\"\"\n",
        "        self.n_features = n_features\n",
        "        self.use_PCA = use_PCA\n",
        "        self.new_dim = new_dim\n",
        "        self.classifier = classifier\n",
        "        self.scaler1 = StandardScaler()\n",
        "        self.scaler2 = StandardScaler()\n",
        "        \n",
        "    def fit(self, X, y):\n",
        "        \"\"\"\n",
        "        Fit all parts of algorithm (PCA, RFF, Classification) to training set.\n",
        "        \"\"\"\n",
        "        # Your code here: (￣▽￣)/♫•*¨*•.¸¸♪\n",
        "        X_copy = self.scaler1.fit_transform(X)\n",
        "        if self.use_PCA:\n",
        "          self.pca = PCA(n_components=self.new_dim, random_state = 42)\n",
        "          X_copy = self.pca.fit_transform(X)\n",
        "\n",
        "        self.W, self.b = self._find_W_b(X_copy)\n",
        "        X_copy = self.scaler2.fit_transform(np.cos(X_copy @ self.W + self.b))\n",
        "              \n",
        "        # LinearModel\n",
        "        if self.classifier == 'svm':\n",
        "            self.clf = SVC(kernel='linear', probability=True, random_state=42)\n",
        "        elif self.classifier == 'logreg':\n",
        "            self.clf = LogisticRegression(n_jobs=-1, random_state=42)\n",
        "        else:\n",
        "            self.clf = RandomForestClassifier(random_state=42)\n",
        "        self.clf.fit(X_copy, y)\n",
        "        return self\n",
        "\n",
        "    def _find_W_b(self, X): \n",
        "        i = np.random.choice(X.shape[0], 2000)\n",
        "        i = np.unique(i)\n",
        "        j = np.random.choice(list(set([k for k in range(X.shape[0])]) - set(i)), 2000) \n",
        "        j = np.unique(j)\n",
        "        dist = cdist(X[i], X[j]).flatten() \n",
        "        sigma = np.median(dist)\n",
        "        W = np.random.normal(0, 1/sigma, size=(X.shape[1], self.n_features))\n",
        "        b = np.random.uniform(-np.pi, np.pi, size=self.n_features)\n",
        "        return W, b\n",
        "\n",
        "    def predict_proba(self, X):\n",
        "        \"\"\"\n",
        "        Apply pipeline to obtain scores for input data.\n",
        "        \"\"\"\n",
        "        # Your code here: (￣▽￣)/♫•*¨*•.¸¸♪\n",
        "        X_copy = self.scaler1.transform(X)\n",
        "        if self.use_PCA:\n",
        "            X_copy = self.pca.transform(X)\n",
        "        X_copy = self.scaler2.transform(np.cos(X_copy @ self.W + self.b))\n",
        "        preds_proba = self.clf.predict_proba(X_copy)\n",
        "        return preds_proba\n",
        "                \n",
        "    def predict(self, X):\n",
        "        \"\"\"\n",
        "        Apply pipeline to obtain discrete predictions for input data.\n",
        "        \"\"\"\n",
        "        # Your code here: (￣▽￣)/♫•*¨*•.¸¸♪\n",
        "        preds_proba = self.predict_proba(X)\n",
        "        preds = np.argmax(preds_proba, axis=1)\n",
        "        return preds"
      ],
      "execution_count": 63,
      "outputs": []
    },
    {
      "cell_type": "code",
      "metadata": {
        "colab": {
          "base_uri": "https://localhost:8080/"
        },
        "id": "zy3chFaOp_CG",
        "outputId": "9f55e19e-d197-4f04-b6d7-16fc8eb48d65"
      },
      "source": [
        "# Random rorest на случайных признаках\n",
        "from sklearn.ensemble import RandomForestClassifier\n",
        "RFFPipe = RFFPipeline(classifier='RF')\n",
        "RFFPipe.fit(x_train, y_train)\n",
        "\n",
        "preds_probs = RFFPipe.predict_proba(x_test)\n",
        "preds_rff_rf = np.argmax(preds_probs, axis=1)\n",
        "print('RFF LogReg accuracy =', round(accuracy_score(y_test, preds_rff_rf), 4))\n",
        "print('*'*50)\n",
        "print(classification_report(y_test, preds_rff_rf))"
      ],
      "execution_count": 64,
      "outputs": [
        {
          "output_type": "stream",
          "name": "stdout",
          "text": [
            "RFF LogReg accuracy = 0.8622\n",
            "**************************************************\n",
            "              precision    recall  f1-score   support\n",
            "\n",
            "           0       0.81      0.84      0.82      1000\n",
            "           1       0.99      0.95      0.97      1000\n",
            "           2       0.76      0.78      0.77      1000\n",
            "           3       0.86      0.89      0.88      1000\n",
            "           4       0.78      0.80      0.79      1000\n",
            "           5       0.93      0.94      0.94      1000\n",
            "           6       0.68      0.59      0.63      1000\n",
            "           7       0.92      0.93      0.92      1000\n",
            "           8       0.94      0.96      0.95      1000\n",
            "           9       0.93      0.94      0.94      1000\n",
            "\n",
            "    accuracy                           0.86     10000\n",
            "   macro avg       0.86      0.86      0.86     10000\n",
            "weighted avg       0.86      0.86      0.86     10000\n",
            "\n"
          ]
        }
      ]
    },
    {
      "cell_type": "code",
      "metadata": {
        "id": "P4LAsTKttToR"
      },
      "source": [
        "class RFFPipeline(BaseEstimator, TransformerMixin):\n",
        "    def __init__(self, n_features=1000, new_dim=50, use_PCA=True, classifier='logreg'):\n",
        "        \"\"\"        \n",
        "        Implements pipeline, which consists of PCA decomposition,\n",
        "        Random Fourier Features approximation and linear classification model.\n",
        "        \n",
        "        n_features, int: amount of synthetic random features generated with RFF approximation.\n",
        "\n",
        "        new_dim, int: PCA output size.\n",
        "        \n",
        "        use_PCA, bool: whether to include PCA preprocessing.\n",
        "        \n",
        "        classifier, string: either 'svm' or 'logreg', a linear classification model to use on top of pipeline.\n",
        "        \n",
        "        Feel free to edit this template for your preferences.    \n",
        "        \"\"\"\n",
        "        self.n_features = n_features\n",
        "        self.use_PCA = use_PCA\n",
        "        self.new_dim = new_dim\n",
        "        self.classifier = classifier\n",
        "        self.scaler1 = StandardScaler()\n",
        "        self.scaler2 = StandardScaler()\n",
        "        \n",
        "    def fit(self, X, y):\n",
        "        \"\"\"\n",
        "        Fit all parts of algorithm (PCA, RFF, Classification) to training set.\n",
        "        \"\"\"\n",
        "        # Your code here: (￣▽￣)/♫•*¨*•.¸¸♪\n",
        "        X_copy = self.scaler1.fit_transform(X)\n",
        "        if self.use_PCA:\n",
        "          self.pca = PCA(n_components=self.new_dim, random_state = 42)\n",
        "          X_copy = self.pca.fit_transform(X)\n",
        "\n",
        "        self.W, self.b = self._find_W_b(X_copy)\n",
        "        X_copy = self.scaler2.fit_transform(np.cos(X_copy @ self.W + self.b))\n",
        "              \n",
        "        # LinearModel\n",
        "        if self.classifier == 'svm':\n",
        "            self.clf = SVC(kernel='linear', probability=True, random_state=42)\n",
        "        elif self.classifier == 'logreg':\n",
        "            self.clf = LogisticRegression(n_jobs=-1, random_state=42)\n",
        "        else:\n",
        "            self.clf = LGBMClassifier(max_depth=10, learning_rate=0.2)\n",
        "        self.clf.fit(X_copy, y)\n",
        "        return self\n",
        "\n",
        "    def _find_W_b(self, X): \n",
        "        i = np.random.choice(X.shape[0], 2000)\n",
        "        i = np.unique(i)\n",
        "        j = np.random.choice(list(set([k for k in range(X.shape[0])]) - set(i)), 2000) \n",
        "        j = np.unique(j)\n",
        "        dist = cdist(X[i], X[j]).flatten() \n",
        "        sigma = np.median(dist)\n",
        "        W = np.random.normal(0, 1/sigma, size=(X.shape[1], self.n_features))\n",
        "        b = np.random.uniform(-np.pi, np.pi, size=self.n_features)\n",
        "        return W, b\n",
        "\n",
        "    def predict_proba(self, X):\n",
        "        \"\"\"\n",
        "        Apply pipeline to obtain scores for input data.\n",
        "        \"\"\"\n",
        "        # Your code here: (￣▽￣)/♫•*¨*•.¸¸♪\n",
        "        X_copy = self.scaler1.transform(X)\n",
        "        if self.use_PCA:\n",
        "            X_copy = self.pca.transform(X)\n",
        "        X_copy = self.scaler2.transform(np.cos(X_copy @ self.W + self.b))\n",
        "        preds_proba = self.clf.predict_proba(X_copy)\n",
        "        return preds_proba\n",
        "                \n",
        "    def predict(self, X):\n",
        "        \"\"\"\n",
        "        Apply pipeline to obtain discrete predictions for input data.\n",
        "        \"\"\"\n",
        "        # Your code here: (￣▽￣)/♫•*¨*•.¸¸♪\n",
        "        preds_proba = self.predict_proba(X)\n",
        "        preds = np.argmax(preds_proba, axis=1)\n",
        "        return preds"
      ],
      "execution_count": 75,
      "outputs": []
    },
    {
      "cell_type": "code",
      "metadata": {
        "colab": {
          "base_uri": "https://localhost:8080/"
        },
        "id": "qxUn9HDGtGBa",
        "outputId": "6ab2f654-f463-47ec-9ba9-eaba4841f331"
      },
      "source": [
        "# градиентный бустинг на случайных признаках\n",
        "RFFPipe = RFFPipeline(classifier='LGBM')\n",
        "RFFPipe.fit(x_train, y_train)\n",
        "\n",
        "preds_probs = RFFPipe.predict_proba(x_test)\n",
        "preds_rff_b = np.argmax(preds_probs, axis=1)\n",
        "print('RFF LogReg accuracy =', round(accuracy_score(y_test, preds_rff_b), 4))\n",
        "print('*'*50)\n",
        "print(classification_report(y_test, preds_rff_b))"
      ],
      "execution_count": 76,
      "outputs": [
        {
          "output_type": "stream",
          "name": "stdout",
          "text": [
            "RFF LogReg accuracy = 0.8768\n",
            "**************************************************\n",
            "              precision    recall  f1-score   support\n",
            "\n",
            "           0       0.82      0.83      0.83      1000\n",
            "           1       0.99      0.97      0.98      1000\n",
            "           2       0.78      0.79      0.79      1000\n",
            "           3       0.89      0.90      0.89      1000\n",
            "           4       0.78      0.81      0.80      1000\n",
            "           5       0.96      0.95      0.96      1000\n",
            "           6       0.68      0.65      0.67      1000\n",
            "           7       0.93      0.95      0.94      1000\n",
            "           8       0.97      0.97      0.97      1000\n",
            "           9       0.95      0.95      0.95      1000\n",
            "\n",
            "    accuracy                           0.88     10000\n",
            "   macro avg       0.88      0.88      0.88     10000\n",
            "weighted avg       0.88      0.88      0.88     10000\n",
            "\n"
          ]
        }
      ]
    },
    {
      "cell_type": "markdown",
      "metadata": {
        "id": "1232WvMcr75n"
      },
      "source": [
        "Возведение косинуса в различные степени не дает прирост качества (для примера оставила степень 3). Если брать знак скалярного произведения, то качесво близко к случайному угадыванию."
      ]
    },
    {
      "cell_type": "markdown",
      "metadata": {
        "id": "lCTmomkqs0_g"
      },
      "source": [
        "Применение случайного леса в качестве классификатора дает качество хуже, чем у логистической регрессии и SVM."
      ]
    },
    {
      "cell_type": "markdown",
      "metadata": {
        "id": "14s-uK9q4Kwl"
      },
      "source": [
        "Градиентный бустинг на случайных признаках дает качество немного выше, чем логистическая регрессия, но не дотягивает до SVM на случайных признаках."
      ]
    },
    {
      "cell_type": "code",
      "metadata": {
        "id": "OgIClY8SqV7b"
      },
      "source": [
        ""
      ],
      "execution_count": null,
      "outputs": []
    }
  ]
}